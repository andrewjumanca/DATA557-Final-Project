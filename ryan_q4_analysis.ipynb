{
 "cells": [
  {
   "cell_type": "code",
   "execution_count": 1,
   "id": "423226b0-782d-477c-bad8-eefbbb8bbbc7",
   "metadata": {},
   "outputs": [],
   "source": [
    "import pandas as pd\n",
    "import matplotlib.pyplot as plt\n",
    "import seaborn as sns\n",
    "import numpy as np\n",
    "import statsmodels.api as sm\n",
    "sns.set_style(\"darkgrid\")"
   ]
  },
  {
   "cell_type": "code",
   "execution_count": 2,
   "id": "bab377fa-58d4-40c9-9fec-8a4351890351",
   "metadata": {},
   "outputs": [],
   "source": [
    "df = pd.read_csv(f'salary.txt', sep='\\s+')"
   ]
  },
  {
   "cell_type": "code",
   "execution_count": 3,
   "id": "f6e15071-4f6d-4119-a7ee-a6bd07294277",
   "metadata": {},
   "outputs": [
    {
     "data": {
      "text/html": [
       "<div>\n",
       "<style scoped>\n",
       "    .dataframe tbody tr th:only-of-type {\n",
       "        vertical-align: middle;\n",
       "    }\n",
       "\n",
       "    .dataframe tbody tr th {\n",
       "        vertical-align: top;\n",
       "    }\n",
       "\n",
       "    .dataframe thead th {\n",
       "        text-align: right;\n",
       "    }\n",
       "</style>\n",
       "<table border=\"1\" class=\"dataframe\">\n",
       "  <thead>\n",
       "    <tr style=\"text-align: right;\">\n",
       "      <th></th>\n",
       "      <th>case</th>\n",
       "      <th>id</th>\n",
       "      <th>sex</th>\n",
       "      <th>deg</th>\n",
       "      <th>yrdeg</th>\n",
       "      <th>field</th>\n",
       "      <th>startyr</th>\n",
       "      <th>year</th>\n",
       "      <th>rank</th>\n",
       "      <th>admin</th>\n",
       "      <th>salary</th>\n",
       "    </tr>\n",
       "  </thead>\n",
       "  <tbody>\n",
       "    <tr>\n",
       "      <th>0</th>\n",
       "      <td>1</td>\n",
       "      <td>1</td>\n",
       "      <td>F</td>\n",
       "      <td>Other</td>\n",
       "      <td>92</td>\n",
       "      <td>Other</td>\n",
       "      <td>95</td>\n",
       "      <td>95</td>\n",
       "      <td>Assist</td>\n",
       "      <td>0</td>\n",
       "      <td>6684.0</td>\n",
       "    </tr>\n",
       "    <tr>\n",
       "      <th>1</th>\n",
       "      <td>2</td>\n",
       "      <td>2</td>\n",
       "      <td>M</td>\n",
       "      <td>Other</td>\n",
       "      <td>91</td>\n",
       "      <td>Other</td>\n",
       "      <td>94</td>\n",
       "      <td>94</td>\n",
       "      <td>Assist</td>\n",
       "      <td>0</td>\n",
       "      <td>4743.0</td>\n",
       "    </tr>\n",
       "    <tr>\n",
       "      <th>2</th>\n",
       "      <td>3</td>\n",
       "      <td>2</td>\n",
       "      <td>M</td>\n",
       "      <td>Other</td>\n",
       "      <td>91</td>\n",
       "      <td>Other</td>\n",
       "      <td>94</td>\n",
       "      <td>95</td>\n",
       "      <td>Assist</td>\n",
       "      <td>0</td>\n",
       "      <td>4881.0</td>\n",
       "    </tr>\n",
       "    <tr>\n",
       "      <th>3</th>\n",
       "      <td>4</td>\n",
       "      <td>4</td>\n",
       "      <td>M</td>\n",
       "      <td>PhD</td>\n",
       "      <td>96</td>\n",
       "      <td>Other</td>\n",
       "      <td>95</td>\n",
       "      <td>95</td>\n",
       "      <td>Assist</td>\n",
       "      <td>0</td>\n",
       "      <td>4231.0</td>\n",
       "    </tr>\n",
       "    <tr>\n",
       "      <th>4</th>\n",
       "      <td>5</td>\n",
       "      <td>6</td>\n",
       "      <td>M</td>\n",
       "      <td>PhD</td>\n",
       "      <td>66</td>\n",
       "      <td>Other</td>\n",
       "      <td>91</td>\n",
       "      <td>91</td>\n",
       "      <td>Full</td>\n",
       "      <td>1</td>\n",
       "      <td>11182.0</td>\n",
       "    </tr>\n",
       "    <tr>\n",
       "      <th>...</th>\n",
       "      <td>...</td>\n",
       "      <td>...</td>\n",
       "      <td>...</td>\n",
       "      <td>...</td>\n",
       "      <td>...</td>\n",
       "      <td>...</td>\n",
       "      <td>...</td>\n",
       "      <td>...</td>\n",
       "      <td>...</td>\n",
       "      <td>...</td>\n",
       "      <td>...</td>\n",
       "    </tr>\n",
       "    <tr>\n",
       "      <th>19787</th>\n",
       "      <td>19788</td>\n",
       "      <td>1770</td>\n",
       "      <td>M</td>\n",
       "      <td>Other</td>\n",
       "      <td>51</td>\n",
       "      <td>Other</td>\n",
       "      <td>64</td>\n",
       "      <td>91</td>\n",
       "      <td>Full</td>\n",
       "      <td>0</td>\n",
       "      <td>5318.0</td>\n",
       "    </tr>\n",
       "    <tr>\n",
       "      <th>19788</th>\n",
       "      <td>19789</td>\n",
       "      <td>1770</td>\n",
       "      <td>M</td>\n",
       "      <td>Other</td>\n",
       "      <td>51</td>\n",
       "      <td>Other</td>\n",
       "      <td>64</td>\n",
       "      <td>92</td>\n",
       "      <td>Full</td>\n",
       "      <td>0</td>\n",
       "      <td>5472.0</td>\n",
       "    </tr>\n",
       "    <tr>\n",
       "      <th>19789</th>\n",
       "      <td>19790</td>\n",
       "      <td>1770</td>\n",
       "      <td>M</td>\n",
       "      <td>Other</td>\n",
       "      <td>51</td>\n",
       "      <td>Other</td>\n",
       "      <td>64</td>\n",
       "      <td>93</td>\n",
       "      <td>Full</td>\n",
       "      <td>0</td>\n",
       "      <td>5551.0</td>\n",
       "    </tr>\n",
       "    <tr>\n",
       "      <th>19790</th>\n",
       "      <td>19791</td>\n",
       "      <td>1770</td>\n",
       "      <td>M</td>\n",
       "      <td>Other</td>\n",
       "      <td>51</td>\n",
       "      <td>Other</td>\n",
       "      <td>64</td>\n",
       "      <td>94</td>\n",
       "      <td>Full</td>\n",
       "      <td>0</td>\n",
       "      <td>5551.0</td>\n",
       "    </tr>\n",
       "    <tr>\n",
       "      <th>19791</th>\n",
       "      <td>19792</td>\n",
       "      <td>1770</td>\n",
       "      <td>M</td>\n",
       "      <td>Other</td>\n",
       "      <td>51</td>\n",
       "      <td>Other</td>\n",
       "      <td>64</td>\n",
       "      <td>95</td>\n",
       "      <td>Full</td>\n",
       "      <td>0</td>\n",
       "      <td>5712.0</td>\n",
       "    </tr>\n",
       "  </tbody>\n",
       "</table>\n",
       "<p>19792 rows × 11 columns</p>\n",
       "</div>"
      ],
      "text/plain": [
       "        case    id sex    deg  yrdeg  field  startyr  year    rank  admin  \\\n",
       "0          1     1   F  Other     92  Other       95    95  Assist      0   \n",
       "1          2     2   M  Other     91  Other       94    94  Assist      0   \n",
       "2          3     2   M  Other     91  Other       94    95  Assist      0   \n",
       "3          4     4   M    PhD     96  Other       95    95  Assist      0   \n",
       "4          5     6   M    PhD     66  Other       91    91    Full      1   \n",
       "...      ...   ...  ..    ...    ...    ...      ...   ...     ...    ...   \n",
       "19787  19788  1770   M  Other     51  Other       64    91    Full      0   \n",
       "19788  19789  1770   M  Other     51  Other       64    92    Full      0   \n",
       "19789  19790  1770   M  Other     51  Other       64    93    Full      0   \n",
       "19790  19791  1770   M  Other     51  Other       64    94    Full      0   \n",
       "19791  19792  1770   M  Other     51  Other       64    95    Full      0   \n",
       "\n",
       "        salary  \n",
       "0       6684.0  \n",
       "1       4743.0  \n",
       "2       4881.0  \n",
       "3       4231.0  \n",
       "4      11182.0  \n",
       "...        ...  \n",
       "19787   5318.0  \n",
       "19788   5472.0  \n",
       "19789   5551.0  \n",
       "19790   5551.0  \n",
       "19791   5712.0  \n",
       "\n",
       "[19792 rows x 11 columns]"
      ]
     },
     "execution_count": 3,
     "metadata": {},
     "output_type": "execute_result"
    }
   ],
   "source": [
    "df"
   ]
  },
  {
   "cell_type": "code",
   "execution_count": 4,
   "id": "9eafb918-5f50-47c5-89a5-d0965315bf73",
   "metadata": {},
   "outputs": [
    {
     "data": {
      "text/plain": [
       "1597"
      ]
     },
     "execution_count": 4,
     "metadata": {},
     "output_type": "execute_result"
    }
   ],
   "source": [
    "# total number of unique individuals in study\n",
    "unique_ids = np.unique(df.id.values)\n",
    "len(unique_ids)"
   ]
  },
  {
   "cell_type": "code",
   "execution_count": 5,
   "id": "0ae2a235-3828-40f5-bcb2-612a2e525768",
   "metadata": {},
   "outputs": [],
   "source": [
    "# Has sex bias existed in granting promotions from Associate to full Professor?"
   ]
  },
  {
   "cell_type": "code",
   "execution_count": 6,
   "id": "1e3d166b-337f-4745-a600-47e68e6f2835",
   "metadata": {},
   "outputs": [],
   "source": [
    "useable_ids = []\n",
    "for id_ in unique_ids:\n",
    "    \n",
    "    df_single = df[df.id == id_]\n",
    "    \n",
    "    if ('Assoc' in df_single['rank'].values) and (df_single['rank'].values[-1] == 'Full'):\n",
    "        useable_ids.append(int(id_))"
   ]
  },
  {
   "cell_type": "code",
   "execution_count": 7,
   "id": "d73339b7-2853-44dc-9c8e-4a9d72ca1796",
   "metadata": {},
   "outputs": [
    {
     "data": {
      "text/plain": [
       "547"
      ]
     },
     "execution_count": 7,
     "metadata": {},
     "output_type": "execute_result"
    }
   ],
   "source": [
    "# number of actual samples (unique individuals) who were associate and got to full prof rank\n",
    "len(useable_ids)"
   ]
  },
  {
   "cell_type": "code",
   "execution_count": 8,
   "id": "2d2500ca-2501-4655-9e7c-7e3f9393f480",
   "metadata": {},
   "outputs": [
    {
     "data": {
      "text/plain": [
       "0.3425172197871008"
      ]
     },
     "execution_count": 8,
     "metadata": {},
     "output_type": "execute_result"
    }
   ],
   "source": [
    "len(useable_ids) / len(unique_ids)"
   ]
  },
  {
   "cell_type": "code",
   "execution_count": null,
   "id": "39cf7f5d-1517-4d54-b6ce-f7724998aa7e",
   "metadata": {},
   "outputs": [],
   "source": []
  },
  {
   "cell_type": "code",
   "execution_count": null,
   "id": "d6995ebf-65a7-4c84-b3e3-f738f2170b7b",
   "metadata": {},
   "outputs": [],
   "source": []
  },
  {
   "cell_type": "code",
   "execution_count": null,
   "id": "71fc256e-4d8f-4ab5-8c98-1f54734fa711",
   "metadata": {},
   "outputs": [],
   "source": []
  },
  {
   "cell_type": "markdown",
   "id": "7229bd71-de45-42f7-b8f5-2a132db87524",
   "metadata": {},
   "source": [
    "----------"
   ]
  },
  {
   "cell_type": "code",
   "execution_count": 141,
   "id": "4127ef90-785d-4e41-9393-8a59ef7bb459",
   "metadata": {},
   "outputs": [],
   "source": [
    "df['promoted'] = 0\n",
    "df.loc[df.id.isin(useable_ids), 'promoted'] = 1\n",
    "\n",
    "df['sex_ord'] = (df.sex.values == 'M').astype(np.uint8)\n",
    "df['deg_ord'] = pd.Categorical(df['deg'], categories=df['deg'].unique().tolist(), ordered=True).codes\n",
    "df['field_ord'] = pd.Categorical(df['field'], categories=df['field'].unique().tolist(), ordered=True).codes"
   ]
  },
  {
   "cell_type": "code",
   "execution_count": 142,
   "id": "30bb4eb2-f280-4f39-a8f6-cad2e6365562",
   "metadata": {},
   "outputs": [
    {
     "data": {
      "text/plain": [
       "['Other', 'PhD', 'Prof']"
      ]
     },
     "execution_count": 142,
     "metadata": {},
     "output_type": "execute_result"
    }
   ],
   "source": [
    "df['deg'].unique().tolist()"
   ]
  },
  {
   "cell_type": "code",
   "execution_count": 143,
   "id": "eae8ab76-eee8-4e0f-892b-a02624f8f417",
   "metadata": {},
   "outputs": [
    {
     "data": {
      "text/plain": [
       "['Other', 'Arts', 'Prof']"
      ]
     },
     "execution_count": 143,
     "metadata": {},
     "output_type": "execute_result"
    }
   ],
   "source": [
    "df['field'].unique().tolist()"
   ]
  },
  {
   "cell_type": "code",
   "execution_count": 144,
   "id": "dbe84dbe-1149-45cc-9154-f91a80f10a10",
   "metadata": {},
   "outputs": [],
   "source": [
    "df_piv = pd.pivot_table(df, \n",
    "                       values=['startyr', 'sex_ord', 'yrdeg', 'deg_ord', 'field_ord',\n",
    "                               'promoted'],\n",
    "                       index=['id'],\n",
    "                       aggfunc=\"min\")"
   ]
  },
  {
   "cell_type": "code",
   "execution_count": 228,
   "id": "ba5f75d5-189d-4f47-9813-d4f1a8d91478",
   "metadata": {},
   "outputs": [],
   "source": [
    "# center larger terms\n",
    "df_piv['yrdeg_centered'] = df_piv['yrdeg'] - np.mean(df_piv['yrdeg'])\n",
    "df_piv['startyr_centered'] = df_piv['startyr'] - np.mean(df_piv['startyr'])\n",
    "\n",
    "# interaction terms\n",
    "df_piv['inter_sex_yrdeg'] = df_piv['sex_ord'] * df_piv['yrdeg_centered']\n",
    "df_piv['inter_sex_startyr'] = df_piv['sex_ord'] * df_piv['startyr_centered']"
   ]
  },
  {
   "cell_type": "code",
   "execution_count": 229,
   "id": "3d042604-51df-4ad4-a0eb-a222ddc073c9",
   "metadata": {},
   "outputs": [
    {
     "data": {
      "text/html": [
       "<div>\n",
       "<style scoped>\n",
       "    .dataframe tbody tr th:only-of-type {\n",
       "        vertical-align: middle;\n",
       "    }\n",
       "\n",
       "    .dataframe tbody tr th {\n",
       "        vertical-align: top;\n",
       "    }\n",
       "\n",
       "    .dataframe thead th {\n",
       "        text-align: right;\n",
       "    }\n",
       "</style>\n",
       "<table border=\"1\" class=\"dataframe\">\n",
       "  <thead>\n",
       "    <tr style=\"text-align: right;\">\n",
       "      <th></th>\n",
       "      <th>deg_ord</th>\n",
       "      <th>field_ord</th>\n",
       "      <th>promoted</th>\n",
       "      <th>sex_ord</th>\n",
       "      <th>startyr</th>\n",
       "      <th>yrdeg</th>\n",
       "      <th>yrdeg_centered</th>\n",
       "      <th>startyr_centered</th>\n",
       "      <th>inter_sex_yrdeg</th>\n",
       "      <th>inter_sex_startyr</th>\n",
       "    </tr>\n",
       "    <tr>\n",
       "      <th>id</th>\n",
       "      <th></th>\n",
       "      <th></th>\n",
       "      <th></th>\n",
       "      <th></th>\n",
       "      <th></th>\n",
       "      <th></th>\n",
       "      <th></th>\n",
       "      <th></th>\n",
       "      <th></th>\n",
       "      <th></th>\n",
       "    </tr>\n",
       "  </thead>\n",
       "  <tbody>\n",
       "    <tr>\n",
       "      <th>1</th>\n",
       "      <td>0</td>\n",
       "      <td>0</td>\n",
       "      <td>0</td>\n",
       "      <td>0</td>\n",
       "      <td>95</td>\n",
       "      <td>92</td>\n",
       "      <td>15.905448</td>\n",
       "      <td>13.884158</td>\n",
       "      <td>0.000000</td>\n",
       "      <td>0.000000</td>\n",
       "    </tr>\n",
       "    <tr>\n",
       "      <th>2</th>\n",
       "      <td>0</td>\n",
       "      <td>0</td>\n",
       "      <td>0</td>\n",
       "      <td>1</td>\n",
       "      <td>94</td>\n",
       "      <td>91</td>\n",
       "      <td>14.905448</td>\n",
       "      <td>12.884158</td>\n",
       "      <td>14.905448</td>\n",
       "      <td>12.884158</td>\n",
       "    </tr>\n",
       "    <tr>\n",
       "      <th>4</th>\n",
       "      <td>1</td>\n",
       "      <td>0</td>\n",
       "      <td>0</td>\n",
       "      <td>1</td>\n",
       "      <td>95</td>\n",
       "      <td>96</td>\n",
       "      <td>19.905448</td>\n",
       "      <td>13.884158</td>\n",
       "      <td>19.905448</td>\n",
       "      <td>13.884158</td>\n",
       "    </tr>\n",
       "    <tr>\n",
       "      <th>6</th>\n",
       "      <td>1</td>\n",
       "      <td>0</td>\n",
       "      <td>0</td>\n",
       "      <td>1</td>\n",
       "      <td>91</td>\n",
       "      <td>66</td>\n",
       "      <td>-10.094552</td>\n",
       "      <td>9.884158</td>\n",
       "      <td>-10.094552</td>\n",
       "      <td>9.884158</td>\n",
       "    </tr>\n",
       "    <tr>\n",
       "      <th>7</th>\n",
       "      <td>1</td>\n",
       "      <td>0</td>\n",
       "      <td>0</td>\n",
       "      <td>1</td>\n",
       "      <td>71</td>\n",
       "      <td>70</td>\n",
       "      <td>-6.094552</td>\n",
       "      <td>-10.115842</td>\n",
       "      <td>-6.094552</td>\n",
       "      <td>-10.115842</td>\n",
       "    </tr>\n",
       "  </tbody>\n",
       "</table>\n",
       "</div>"
      ],
      "text/plain": [
       "    deg_ord  field_ord  promoted  sex_ord  startyr  yrdeg  yrdeg_centered  \\\n",
       "id                                                                          \n",
       "1         0          0         0        0       95     92       15.905448   \n",
       "2         0          0         0        1       94     91       14.905448   \n",
       "4         1          0         0        1       95     96       19.905448   \n",
       "6         1          0         0        1       91     66      -10.094552   \n",
       "7         1          0         0        1       71     70       -6.094552   \n",
       "\n",
       "    startyr_centered  inter_sex_yrdeg  inter_sex_startyr  \n",
       "id                                                        \n",
       "1          13.884158         0.000000           0.000000  \n",
       "2          12.884158        14.905448          12.884158  \n",
       "4          13.884158        19.905448          13.884158  \n",
       "6           9.884158       -10.094552           9.884158  \n",
       "7         -10.115842        -6.094552         -10.115842  "
      ]
     },
     "execution_count": 229,
     "metadata": {},
     "output_type": "execute_result"
    }
   ],
   "source": [
    "df_piv.head()"
   ]
  },
  {
   "cell_type": "code",
   "execution_count": 244,
   "id": "f4dc9604-3773-46a2-9bcf-ae3decd89650",
   "metadata": {},
   "outputs": [
    {
     "name": "stdout",
     "output_type": "stream",
     "text": [
      "The history saving thread hit an unexpected error (OperationalError('attempt to write a readonly database')).History will not be written to the database.\n"
     ]
    }
   ],
   "source": [
    "model = sm.Logit(df_piv.promoted, df_piv[['deg_ord',\n",
    "                                          'field_ord',\n",
    "                                          'sex_ord', \n",
    "                                          # 'yrdeg', 'startyr',\n",
    "                                          'startyr_centered', 'yrdeg_centered',\n",
    "                                          'inter_sex_startyr', 'inter_sex_yrdeg']])"
   ]
  },
  {
   "cell_type": "code",
   "execution_count": 245,
   "id": "2f171dec-2482-4161-a8c9-66238f9c58f3",
   "metadata": {},
   "outputs": [
    {
     "name": "stdout",
     "output_type": "stream",
     "text": [
      "Optimization terminated successfully.\n",
      "         Current function value: 0.568453\n",
      "         Iterations 6\n"
     ]
    }
   ],
   "source": [
    "res = model.fit(start_params=None,\n",
    "            method='newton',\n",
    "            maxiter=50,\n",
    "            full_output=1,\n",
    "            disp=1,\n",
    "            callback=None\n",
    "         )"
   ]
  },
  {
   "cell_type": "code",
   "execution_count": 246,
   "id": "79a52b18-cf7f-4869-9624-d7fc076328ce",
   "metadata": {},
   "outputs": [
    {
     "data": {
      "text/plain": [
       "True"
      ]
     },
     "execution_count": 246,
     "metadata": {},
     "output_type": "execute_result"
    }
   ],
   "source": [
    "res.converged"
   ]
  },
  {
   "cell_type": "code",
   "execution_count": 247,
   "id": "7530e01e-6ebd-48e7-a9f6-73a4d0f74e5b",
   "metadata": {},
   "outputs": [
    {
     "data": {
      "text/plain": [
       "deg_ord              0.112641\n",
       "sex_ord              0.127718\n",
       "startyr_centered     0.030196\n",
       "yrdeg_centered       0.027614\n",
       "inter_sex_startyr    0.032140\n",
       "inter_sex_yrdeg      0.029829\n",
       "dtype: float64"
      ]
     },
     "execution_count": 247,
     "metadata": {},
     "output_type": "execute_result"
    }
   ],
   "source": [
    "res.bse"
   ]
  },
  {
   "cell_type": "code",
   "execution_count": null,
   "id": "f1ba5159-26d0-455a-a7db-e0a654f59927",
   "metadata": {},
   "outputs": [],
   "source": []
  },
  {
   "cell_type": "code",
   "execution_count": null,
   "id": "80830631-f7db-4b69-a06c-7952d841ce39",
   "metadata": {},
   "outputs": [],
   "source": []
  },
  {
   "cell_type": "code",
   "execution_count": null,
   "id": "203df363-e703-48b9-93bd-0d66cbc2f429",
   "metadata": {},
   "outputs": [],
   "source": []
  },
  {
   "cell_type": "code",
   "execution_count": 255,
   "id": "8c01ef29-1dc2-426a-9f5e-2e55367c9a36",
   "metadata": {},
   "outputs": [
    {
     "data": {
      "text/plain": [
       "(array([  2.,  13.,  43.,  88., 189., 203., 169., 222., 306., 362.]),\n",
       " array([-33.1158422, -28.4158422, -23.7158422, -19.0158422, -14.3158422,\n",
       "         -9.6158422,  -4.9158422,  -0.2158422,   4.4841578,   9.1841578,\n",
       "         13.8841578]),\n",
       " <BarContainer object of 10 artists>)"
      ]
     },
     "execution_count": 255,
     "metadata": {},
     "output_type": "execute_result"
    },
    {
     "data": {
      "image/png": "[encoded data removed]",
      "text/plain": [
       "<Figure size 640x480 with 1 Axes>"
      ]
     },
     "metadata": {},
     "output_type": "display_data"
    }
   ],
   "source": [
    "plt.hist(df_piv['startyr_centered'].values)"
   ]
  },
  {
   "cell_type": "code",
   "execution_count": 248,
   "id": "6057c74e-6572-4acd-9c14-16bc9db6906a",
   "metadata": {},
   "outputs": [],
   "source": [
    "# plt.hist(res.fittedvalues.values);"
   ]
  },
  {
   "cell_type": "code",
   "execution_count": 249,
   "id": "ba5e5a95-11d2-4cb7-83b1-bd9f0c8e755d",
   "metadata": {},
   "outputs": [
    {
     "data": {
      "text/html": [
       "<table class=\"simpletable\">\n",
       "<caption>Logit Regression Results</caption>\n",
       "<tr>\n",
       "  <th>Dep. Variable:</th>       <td>promoted</td>     <th>  No. Observations:  </th>  <td>  1597</td>  \n",
       "</tr>\n",
       "<tr>\n",
       "  <th>Model:</th>                 <td>Logit</td>      <th>  Df Residuals:      </th>  <td>  1591</td>  \n",
       "</tr>\n",
       "<tr>\n",
       "  <th>Method:</th>                 <td>MLE</td>       <th>  Df Model:          </th>  <td>     5</td>  \n",
       "</tr>\n",
       "<tr>\n",
       "  <th>Date:</th>            <td>Wed, 12 Mar 2025</td> <th>  Pseudo R-squ.:     </th>  <td>0.1155</td>  \n",
       "</tr>\n",
       "<tr>\n",
       "  <th>Time:</th>                <td>17:56:34</td>     <th>  Log-Likelihood:    </th> <td> -907.82</td> \n",
       "</tr>\n",
       "<tr>\n",
       "  <th>converged:</th>             <td>True</td>       <th>  LL-Null:           </th> <td> -1026.4</td> \n",
       "</tr>\n",
       "<tr>\n",
       "  <th>Covariance Type:</th>     <td>nonrobust</td>    <th>  LLR p-value:       </th> <td>3.186e-49</td>\n",
       "</tr>\n",
       "</table>\n",
       "<table class=\"simpletable\">\n",
       "<tr>\n",
       "          <td></td>             <th>coef</th>     <th>std err</th>      <th>z</th>      <th>P>|z|</th>  <th>[0.025</th>    <th>0.975]</th>  \n",
       "</tr>\n",
       "<tr>\n",
       "  <th>deg_ord</th>           <td>   -0.4380</td> <td>    0.113</td> <td>   -3.888</td> <td> 0.000</td> <td>   -0.659</td> <td>   -0.217</td>\n",
       "</tr>\n",
       "<tr>\n",
       "  <th>sex_ord</th>           <td>   -0.1731</td> <td>    0.128</td> <td>   -1.355</td> <td> 0.175</td> <td>   -0.423</td> <td>    0.077</td>\n",
       "</tr>\n",
       "<tr>\n",
       "  <th>startyr_centered</th>  <td>   -0.1722</td> <td>    0.030</td> <td>   -5.702</td> <td> 0.000</td> <td>   -0.231</td> <td>   -0.113</td>\n",
       "</tr>\n",
       "<tr>\n",
       "  <th>yrdeg_centered</th>    <td>   -0.0214</td> <td>    0.028</td> <td>   -0.773</td> <td> 0.439</td> <td>   -0.075</td> <td>    0.033</td>\n",
       "</tr>\n",
       "<tr>\n",
       "  <th>inter_sex_startyr</th> <td>    0.0855</td> <td>    0.032</td> <td>    2.661</td> <td> 0.008</td> <td>    0.023</td> <td>    0.149</td>\n",
       "</tr>\n",
       "<tr>\n",
       "  <th>inter_sex_yrdeg</th>   <td>    0.0640</td> <td>    0.030</td> <td>    2.145</td> <td> 0.032</td> <td>    0.006</td> <td>    0.122</td>\n",
       "</tr>\n",
       "</table>"
      ],
      "text/latex": [
       "\\begin{center}\n",
       "\\begin{tabular}{lclc}\n",
       "\\toprule\n",
       "\\textbf{Dep. Variable:}      &     promoted     & \\textbf{  No. Observations:  } &     1597    \\\\\n",
       "\\textbf{Model:}              &      Logit       & \\textbf{  Df Residuals:      } &     1591    \\\\\n",
       "\\textbf{Method:}             &       MLE        & \\textbf{  Df Model:          } &        5    \\\\\n",
       "\\textbf{Date:}               & Wed, 12 Mar 2025 & \\textbf{  Pseudo R-squ.:     } &   0.1155    \\\\\n",
       "\\textbf{Time:}               &     17:56:34     & \\textbf{  Log-Likelihood:    } &   -907.82   \\\\\n",
       "\\textbf{converged:}          &       True       & \\textbf{  LL-Null:           } &   -1026.4   \\\\\n",
       "\\textbf{Covariance Type:}    &    nonrobust     & \\textbf{  LLR p-value:       } & 3.186e-49   \\\\\n",
       "\\bottomrule\n",
       "\\end{tabular}\n",
       "\\begin{tabular}{lcccccc}\n",
       "                             & \\textbf{coef} & \\textbf{std err} & \\textbf{z} & \\textbf{P$> |$z$|$} & \\textbf{[0.025} & \\textbf{0.975]}  \\\\\n",
       "\\midrule\n",
       "\\textbf{deg\\_ord}            &      -0.4380  &        0.113     &    -3.888  &         0.000        &       -0.659    &       -0.217     \\\\\n",
       "\\textbf{sex\\_ord}            &      -0.1731  &        0.128     &    -1.355  &         0.175        &       -0.423    &        0.077     \\\\\n",
       "\\textbf{startyr\\_centered}   &      -0.1722  &        0.030     &    -5.702  &         0.000        &       -0.231    &       -0.113     \\\\\n",
       "\\textbf{yrdeg\\_centered}     &      -0.0214  &        0.028     &    -0.773  &         0.439        &       -0.075    &        0.033     \\\\\n",
       "\\textbf{inter\\_sex\\_startyr} &       0.0855  &        0.032     &     2.661  &         0.008        &        0.023    &        0.149     \\\\\n",
       "\\textbf{inter\\_sex\\_yrdeg}   &       0.0640  &        0.030     &     2.145  &         0.032        &        0.006    &        0.122     \\\\\n",
       "\\bottomrule\n",
       "\\end{tabular}\n",
       "%\\caption{Logit Regression Results}\n",
       "\\end{center}"
      ],
      "text/plain": [
       "<class 'statsmodels.iolib.summary.Summary'>\n",
       "\"\"\"\n",
       "                           Logit Regression Results                           \n",
       "==============================================================================\n",
       "Dep. Variable:               promoted   No. Observations:                 1597\n",
       "Model:                          Logit   Df Residuals:                     1591\n",
       "Method:                           MLE   Df Model:                            5\n",
       "Date:                Wed, 12 Mar 2025   Pseudo R-squ.:                  0.1155\n",
       "Time:                        17:56:34   Log-Likelihood:                -907.82\n",
       "converged:                       True   LL-Null:                       -1026.4\n",
       "Covariance Type:            nonrobust   LLR p-value:                 3.186e-49\n",
       "=====================================================================================\n",
       "                        coef    std err          z      P>|z|      [0.025      0.975]\n",
       "-------------------------------------------------------------------------------------\n",
       "deg_ord              -0.4380      0.113     -3.888      0.000      -0.659      -0.217\n",
       "sex_ord              -0.1731      0.128     -1.355      0.175      -0.423       0.077\n",
       "startyr_centered     -0.1722      0.030     -5.702      0.000      -0.231      -0.113\n",
       "yrdeg_centered       -0.0214      0.028     -0.773      0.439      -0.075       0.033\n",
       "inter_sex_startyr     0.0855      0.032      2.661      0.008       0.023       0.149\n",
       "inter_sex_yrdeg       0.0640      0.030      2.145      0.032       0.006       0.122\n",
       "=====================================================================================\n",
       "\"\"\""
      ]
     },
     "execution_count": 249,
     "metadata": {},
     "output_type": "execute_result"
    }
   ],
   "source": [
    "res.summary()"
   ]
  },
  {
   "cell_type": "code",
   "execution_count": 236,
   "id": "90e4ceb5-075e-43e3-9232-57023bc4bb58",
   "metadata": {},
   "outputs": [],
   "source": [
    "# inter_sex_startyr: 0.0857\t(positive and significant) it suggests that the effect of startyr (starting year) on promotion \n",
    "    # is stronger for men than for women \n",
    "    # (e.g., men hired more recently have a higher promotion rate than women hired in the same years).\n",
    "\n",
    "# inter_sex_yrdeg: 0.0639 (positive and significant) it suggests that the effect of yeardeg (year degree was obtained) on promotion\n",
    "    # is stronger for men than for women \n",
    "    # (e.g. men who have obtained degrees more recently have a higher chance of promotion compared to females with more recent degree)"
   ]
  },
  {
   "cell_type": "code",
   "execution_count": null,
   "id": "260ec8f2-da92-4f75-8d29-48189e044063",
   "metadata": {},
   "outputs": [],
   "source": []
  },
  {
   "cell_type": "code",
   "execution_count": 250,
   "id": "9a8b3551-013e-4f2e-a39c-0c3a1445cc78",
   "metadata": {},
   "outputs": [],
   "source": [
    "from sklearn.metrics import roc_curve, roc_curve, precision_recall_curve, auc\n",
    "import matplotlib.pyplot as plt"
   ]
  },
  {
   "cell_type": "code",
   "execution_count": 251,
   "id": "3f8ff08d-451b-4514-8c83-a543fbd9d7a8",
   "metadata": {},
   "outputs": [],
   "source": [
    "y_pred = model.predict(res.params, which='mean')"
   ]
  },
  {
   "cell_type": "code",
   "execution_count": 252,
   "id": "6f5fc719-5d49-4175-800d-6ff84649ecfa",
   "metadata": {},
   "outputs": [
    {
     "data": {
      "text/plain": [
       "(array([0, 1]), array([1050,  547]))"
      ]
     },
     "execution_count": 252,
     "metadata": {},
     "output_type": "execute_result"
    }
   ],
   "source": [
    "np.unique(df_piv.promoted.values, return_counts=True)"
   ]
  },
  {
   "cell_type": "code",
   "execution_count": 242,
   "id": "ba920d77-8e76-45b2-ba93-f555013b8ad7",
   "metadata": {},
   "outputs": [],
   "source": [
    "def plot_roc_pr(yt, yp):\n",
    "    plt.figure(figsize=(20,7))\n",
    "    \n",
    "    fpr, tpr, ts = roc_curve(yt, yp)\n",
    "    roc_auc = auc(fpr, tpr)\n",
    "    \n",
    "    plt.subplot(1,2,1)\n",
    "    plt.plot(fpr, tpr, label=f'ROC AUC: {roc_auc:0.4f}')\n",
    "    plt.plot([0,1], [0,1], ls='--', color='orange', label='random')\n",
    "    plt.legend()\n",
    "    \n",
    "    precision, recall, thresholds = precision_recall_curve(yt, yp)\n",
    "    pr_auc = auc(recall, precision)\n",
    "    \n",
    "    plt.subplot(1,2,2)\n",
    "    plt.plot(recall, precision, label=f'PR AUC: {pr_auc:0.4f}')\n",
    "    plt.axhline(547/(547+1050), ls='--', color='orange', label='random')\n",
    "    plt.legend()\n",
    "    plt.show()"
   ]
  },
  {
   "cell_type": "code",
   "execution_count": 227,
   "id": "fef569b7-d36e-47d2-8761-04c12ed6a916",
   "metadata": {},
   "outputs": [
    {
     "data": {
      "image/png": "[encoded data removed]",
      "text/plain": [
       "<Figure size 2000x700 with 2 Axes>"
      ]
     },
     "metadata": {},
     "output_type": "display_data"
    }
   ],
   "source": [
    "# with no centering for interaction terms\n",
    "plot_roc_pr(df_piv.promoted, y_pred)"
   ]
  },
  {
   "cell_type": "code",
   "execution_count": null,
   "id": "d60d22d0-0c3b-4d48-a7da-16784567e401",
   "metadata": {},
   "outputs": [],
   "source": []
  },
  {
   "cell_type": "code",
   "execution_count": 243,
   "id": "fa2d32c5-9a95-4cdd-988f-e8298da53ddb",
   "metadata": {},
   "outputs": [
    {
     "data": {
      "image/png": "[encoded data removed]",
      "text/plain": [
       "<Figure size 2000x700 with 2 Axes>"
      ]
     },
     "metadata": {},
     "output_type": "display_data"
    }
   ],
   "source": [
    "# with centering for interaction terms\n",
    "plot_roc_pr(df_piv.promoted, y_pred)"
   ]
  },
  {
   "cell_type": "code",
   "execution_count": null,
   "id": "956aa864-95c2-4f62-9d7a-03251b0f0fe3",
   "metadata": {},
   "outputs": [],
   "source": []
  },
  {
   "cell_type": "code",
   "execution_count": null,
   "id": "7702954e-cfe0-483b-9a92-b8eba44dfc25",
   "metadata": {},
   "outputs": [],
   "source": []
  },
  {
   "cell_type": "code",
   "execution_count": null,
   "id": "c94d721c-bd2c-412c-9446-afe9c4c02629",
   "metadata": {},
   "outputs": [],
   "source": []
  },
  {
   "cell_type": "code",
   "execution_count": null,
   "id": "69981369-3e25-4028-aa4a-90abc23be76e",
   "metadata": {},
   "outputs": [],
   "source": []
  },
  {
   "cell_type": "code",
   "execution_count": null,
   "id": "41bf40b2-b30a-48fc-bd02-2edae6863c61",
   "metadata": {},
   "outputs": [],
   "source": []
  }
 ],
 "metadata": {
  "kernelspec": {
   "display_name": "bet",
   "language": "python",
   "name": "bet"
  },
  "language_info": {
   "codemirror_mode": {
    "name": "ipython",
    "version": 3
   },
   "file_extension": ".py",
   "mimetype": "text/x-python",
   "name": "python",
   "nbconvert_exporter": "python",
   "pygments_lexer": "ipython3",
   "version": "3.9.20"
  }
 },
 "nbformat": 4,
 "nbformat_minor": 5
}
